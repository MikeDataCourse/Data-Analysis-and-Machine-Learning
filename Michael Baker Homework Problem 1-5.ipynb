{
 "cells": [
  {
   "cell_type": "code",
   "execution_count": 4,
   "metadata": {},
   "outputs": [],
   "source": [
    "import pandas as pd\n",
    "import numpy as np\n",
    "import matplotlib.pyplot as plt\n",
    "import seaborn as sns\n",
    "\n"
   ]
  },
  {
   "cell_type": "code",
   "execution_count": 5,
   "metadata": {},
   "outputs": [
    {
     "name": "stdout",
     "output_type": "stream",
     "text": [
      "   total_bill   tip     sex smoker  day    time  size\n",
      "0       16.99  1.01  Female     No  Sun  Dinner     2\n",
      "1       10.34  1.66    Male     No  Sun  Dinner     3\n",
      "2       21.01  3.50    Male     No  Sun  Dinner     3\n",
      "3       23.68  3.31    Male     No  Sun  Dinner     2\n",
      "4       24.59  3.61  Female     No  Sun  Dinner     4\n"
     ]
    }
   ],
   "source": [
    "# Load the tips dataset\n",
    "\n",
    "tips = sns.load_dataset('tips')\n",
    "\n",
    "# Display the first few rows of the dataset\n",
    "print(tips.head())"
   ]
  },
  {
   "cell_type": "code",
   "execution_count": 6,
   "metadata": {},
   "outputs": [
    {
     "name": "stdout",
     "output_type": "stream",
     "text": [
      "        total_bill       tip\n",
      "sex                         \n",
      "Male     20.744076  3.089618\n",
      "Female   18.056897  2.833448\n"
     ]
    }
   ],
   "source": [
    "# Group by 'sex' and calculate the mean of 'total_bill' and 'tip'\n",
    "grouped_data = tips.groupby('sex')[['total_bill', 'tip']].mean()\n",
    "\n",
    "# Display the grouped data\n",
    "print(grouped_data)"
   ]
  },
  {
   "cell_type": "code",
   "execution_count": 7,
   "metadata": {},
   "outputs": [
    {
     "name": "stdout",
     "output_type": "stream",
     "text": [
      "   survived  pclass     sex   age  sibsp  parch     fare embarked  class  \\\n",
      "0         0       3    male  22.0      1      0   7.2500        S  Third   \n",
      "1         1       1  female  38.0      1      0  71.2833        C  First   \n",
      "2         1       3  female  26.0      0      0   7.9250        S  Third   \n",
      "3         1       1  female  35.0      1      0  53.1000        S  First   \n",
      "4         0       3    male  35.0      0      0   8.0500        S  Third   \n",
      "\n",
      "     who  adult_male deck  embark_town alive  alone  \n",
      "0    man        True  NaN  Southampton    no  False  \n",
      "1  woman       False    C    Cherbourg   yes  False  \n",
      "2  woman       False  NaN  Southampton   yes   True  \n",
      "3  woman       False    C  Southampton   yes  False  \n",
      "4    man        True  NaN  Southampton    no   True  \n"
     ]
    }
   ],
   "source": [
    "#Problem 2: Multiple Aggregations\n",
    "# Load the Titanic dataset\n",
    "titanic = sns.load_dataset('titanic')\n",
    "\n",
    "# Display the first few rows of the dataset\n",
    "print(titanic.head())"
   ]
  },
  {
   "cell_type": "code",
   "execution_count": 8,
   "metadata": {},
   "outputs": [
    {
     "name": "stdout",
     "output_type": "stream",
     "text": [
      "              age                   fare           \n",
      "             mean        std         sum       mean\n",
      "class                                              \n",
      "First   38.233441  14.802856  18177.4125  84.154687\n",
      "Second  29.877630  14.001077   3801.8417  20.662183\n",
      "Third   25.140620  12.495398   6714.6951  13.675550\n"
     ]
    }
   ],
   "source": [
    "# Group by 'class' and apply aggregations\n",
    "grouped_data = titanic.groupby('class').agg({\n",
    "    'age': ['mean', 'std'],          # Mean and standard deviation of age\n",
    "    'fare': ['sum', 'mean']          # Total and average fare\n",
    "})\n",
    "\n",
    "# Display the grouped and aggregated data\n",
    "print(grouped_data)"
   ]
  },
  {
   "cell_type": "code",
   "execution_count": 9,
   "metadata": {},
   "outputs": [
    {
     "name": "stdout",
     "output_type": "stream",
     "text": [
      "           price_range\n",
      "cut                   \n",
      "Ideal            18480\n",
      "Premium          18497\n",
      "Very Good        18482\n",
      "Good             18461\n",
      "Fair             18237\n"
     ]
    }
   ],
   "source": [
    "# Problem 3\n",
    "# Load the diamonds dataset\n",
    "diamonds = sns.load_dataset('diamonds')\n",
    "\n",
    "# Define a custom aggregation function to calculate the range (max - min)\n",
    "def price_range(x):\n",
    "    return x.max() - x.min()\n",
    "\n",
    "# Group by 'cut' and apply the custom aggregation function to the 'price' column\n",
    "grouped_data = diamonds.groupby('cut').agg({\n",
    "    'price': price_range\n",
    "})\n",
    "\n",
    "# Rename the column for clarity\n",
    "grouped_data.rename(columns={'price': 'price_range'}, inplace=True)\n",
    "\n",
    "# Display the results\n",
    "print(grouped_data)"
   ]
  },
  {
   "cell_type": "code",
   "execution_count": 10,
   "metadata": {},
   "outputs": [
    {
     "name": "stdout",
     "output_type": "stream",
     "text": [
      "time      Lunch     Dinner\n",
      "day                       \n",
      "Thur  17.664754  18.780000\n",
      "Fri   12.845714  19.663333\n",
      "Sat         NaN  20.441379\n",
      "Sun         NaN  21.410000\n"
     ]
    }
   ],
   "source": [
    "# Problem 4\n",
    "import seaborn as sns\n",
    "import pandas as pd\n",
    "\n",
    "# Load the tips dataset\n",
    "tips = sns.load_dataset('tips')\n",
    "\n",
    "# Create a pivot table to show the average total bill for each day and time\n",
    "pivot_table = tips.pivot_table(\n",
    "    values='total_bill',  # Column to average\n",
    "    index='day',          # Rows: unique days\n",
    "    columns='time',       # Columns: unique times (Lunch/Dinner)\n",
    "    aggfunc='mean'        # Aggregation function: mean\n",
    ")\n",
    "\n",
    "# Display the pivot table\n",
    "print(pivot_table)\n"
   ]
  },
  {
   "cell_type": "code",
   "execution_count": 13,
   "metadata": {},
   "outputs": [
    {
     "name": "stdout",
     "output_type": "stream",
     "text": [
      "   survived  pclass     sex   age  sibsp  parch     fare embarked  class  \\\n",
      "0         0       3    male  22.0      1      0   7.2500        S  Third   \n",
      "1         1       1  female  38.0      1      0  71.2833        C  First   \n",
      "2         1       3  female  26.0      0      0   7.9250        S  Third   \n",
      "3         1       1  female  35.0      1      0  53.1000        S  First   \n",
      "4         0       3    male  35.0      0      0   8.0500        S  Third   \n",
      "\n",
      "     who  adult_male deck  embark_town alive  alone  \n",
      "0    man        True  NaN  Southampton    no  False  \n",
      "1  woman       False    C    Cherbourg   yes  False  \n",
      "2  woman       False  NaN  Southampton   yes   True  \n",
      "3  woman       False    C  Southampton   yes  False  \n",
      "4    man        True  NaN  Southampton    no   True  \n"
     ]
    }
   ],
   "source": [
    "# Problem 6\n",
    "# Load the Titanic dataset\n",
    "titanic = sns.load_dataset('titanic')\n",
    "\n",
    "# Display the first few rows of the dataset\n",
    "print(titanic.head())"
   ]
  }
 ],
 "metadata": {
  "kernelspec": {
   "display_name": "Python 3",
   "language": "python",
   "name": "python3"
  },
  "language_info": {
   "codemirror_mode": {
    "name": "ipython",
    "version": 3
   },
   "file_extension": ".py",
   "mimetype": "text/x-python",
   "name": "python",
   "nbconvert_exporter": "python",
   "pygments_lexer": "ipython3",
   "version": "3.8.5"
  }
 },
 "nbformat": 4,
 "nbformat_minor": 4
}
